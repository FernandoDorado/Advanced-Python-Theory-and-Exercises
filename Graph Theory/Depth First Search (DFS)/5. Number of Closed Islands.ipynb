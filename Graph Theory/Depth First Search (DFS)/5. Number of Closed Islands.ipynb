{
 "cells": [
  {
   "cell_type": "markdown",
   "id": "e4ca7367",
   "metadata": {},
   "source": [
    "# 1254. Number of Closed Islands\n",
    "\n",
    "Given a 2D grid consists of 0s (land) and 1s (water).  An island is a maximal 4-directionally connected group of 0s and a closed island is an island totally (all left, top, right, bottom) surrounded by 1s.\n",
    "\n",
    "Return the number of closed islands."
   ]
  },
  {
   "cell_type": "code",
   "execution_count": 36,
   "id": "6e89c7a6",
   "metadata": {},
   "outputs": [],
   "source": [
    "from typing import List\n",
    "from collections import Counter\n",
    "import pprint as pp\n",
    "\n",
    "class Solution:\n",
    "    id_island = 10\n",
    "    \n",
    "    def dfs(self, grid, i,j):\n",
    "        if (i<0) or (i>=len(grid)) or (j<0) or (j>=len(grid[0])) or (grid[i][j]!=0):\n",
    "            return\n",
    "        \n",
    "        grid[i][j] = self.id_island\n",
    "        \n",
    "        self.dfs(grid, i+1, j)\n",
    "        self.dfs(grid, i-1, j)\n",
    "        self.dfs(grid, i, j+1)\n",
    "        self.dfs(grid, i, j-1)\n",
    "        \n",
    "    def closedIsland(self, grid: List[List[int]]) -> int:\n",
    "        if not grid:\n",
    "            return 0\n",
    "\n",
    "        num_islands = 0 \n",
    "        for i in range(0,len(grid)):\n",
    "            for j in range(0,len(grid[0])):\n",
    "                if grid[i][j] == 0:\n",
    "                    self.dfs(grid,i,j)\n",
    "                    num_islands +=1\n",
    "                    self.id_island = self.id_island + 1\n",
    "        \n",
    "        num_closed_islands = 0\n",
    "        for i in range(0,len(grid)):\n",
    "            for j in range(0,len(grid[0])):   \n",
    "                try:\n",
    "                    if grid[i-1][j]==1 and grid[i+1][j]==1 and grid[i][j-1]==1 and grid[i][j+1]==1:\n",
    "                        num_closed_islands += 1\n",
    "                        \n",
    "                    if grid[i][j]==1 and (grid[i-1][j]!=1 or grid[i+1][j]!=1 or grid[i][j-1]!=1 or grid[i][j+1]!=1):\n",
    "                        if grid[i-1][j]!=1: \n",
    "                            print('change 1 ')\n",
    "                            grid[i][j]==grid[i-1][j]\n",
    "                        if grid[i+1][j]!=1: \n",
    "                            print('change 2')\n",
    "                            grid[i][j]==grid[i+1][j]\n",
    "                        if grid[i][j+1]!=1: \n",
    "                            print('change 3')\n",
    "                            grid[i][j]==grid[i][j+1]\n",
    "                        if grid[i][j-1]!=1: \n",
    "                            print('change 4')\n",
    "                            grid[i][j]==grid[i][j-1]\n",
    "                        \n",
    "                except:\n",
    "                    pass\n",
    "                \n",
    "        \n",
    "        for row in grid:\n",
    "            print(row)\n",
    "            \n",
    "        return num_closed_islands"
   ]
  },
  {
   "cell_type": "code",
   "execution_count": 37,
   "id": "1a0a95c8",
   "metadata": {},
   "outputs": [
    {
     "name": "stdout",
     "output_type": "stream",
     "text": [
      "change 4\n",
      "change 2\n",
      "change 2\n",
      "change 2\n",
      "change 2\n",
      "change 3\n",
      "change 3\n",
      "change 4\n",
      "change 4\n",
      "change 3\n",
      "change 3\n",
      "change 4\n",
      "change 1 \n",
      "change 2\n",
      "change 3\n",
      "change 4\n",
      "change 1 \n",
      "change 2\n",
      "change 4\n",
      "change 2\n",
      "change 3\n",
      "change 3\n",
      "change 3\n",
      "change 4\n",
      "change 1 \n",
      "change 2\n",
      "change 1 \n",
      "change 1 \n",
      "change 1 \n",
      "change 1 \n",
      "change 1 \n",
      "[1, 1, 1, 1, 1, 1, 1, 10]\n",
      "[1, 11, 11, 11, 11, 1, 1, 10]\n",
      "[1, 11, 1, 11, 1, 1, 1, 10]\n",
      "[1, 11, 11, 11, 11, 1, 12, 1]\n",
      "[1, 1, 1, 1, 1, 1, 1, 13]\n"
     ]
    },
    {
     "data": {
      "text/plain": [
       "3"
      ]
     },
     "execution_count": 37,
     "metadata": {},
     "output_type": "execute_result"
    }
   ],
   "source": [
    "grid = [[1,1,1,1,1,1,1,0],[1,0,0,0,0,1,1,0],[1,0,1,0,1,1,1,0],[1,0,0,0,0,1,0,1],[1,1,1,1,1,1,1,0]]\n",
    "\n",
    "sol = Solution()\n",
    "sol.closedIsland(grid)"
   ]
  },
  {
   "cell_type": "code",
   "execution_count": null,
   "id": "2abe2f16",
   "metadata": {},
   "outputs": [],
   "source": []
  },
  {
   "cell_type": "code",
   "execution_count": null,
   "id": "299236c4",
   "metadata": {},
   "outputs": [],
   "source": []
  }
 ],
 "metadata": {
  "kernelspec": {
   "display_name": "Python 3",
   "language": "python",
   "name": "python3"
  },
  "language_info": {
   "codemirror_mode": {
    "name": "ipython",
    "version": 3
   },
   "file_extension": ".py",
   "mimetype": "text/x-python",
   "name": "python",
   "nbconvert_exporter": "python",
   "pygments_lexer": "ipython3",
   "version": "3.7.10"
  },
  "latex_envs": {
   "LaTeX_envs_menu_present": true,
   "autoclose": false,
   "autocomplete": true,
   "bibliofile": "biblio.bib",
   "cite_by": "apalike",
   "current_citInitial": 1,
   "eqLabelWithNumbers": true,
   "eqNumInitial": 1,
   "hotkeys": {
    "equation": "Ctrl-E",
    "itemize": "Ctrl-I"
   },
   "labels_anchors": false,
   "latex_user_defs": false,
   "report_style_numbering": false,
   "user_envs_cfg": false
  },
  "toc": {
   "base_numbering": 1,
   "nav_menu": {},
   "number_sections": true,
   "sideBar": true,
   "skip_h1_title": false,
   "title_cell": "Table of Contents",
   "title_sidebar": "Contents",
   "toc_cell": false,
   "toc_position": {},
   "toc_section_display": true,
   "toc_window_display": false
  }
 },
 "nbformat": 4,
 "nbformat_minor": 5
}
