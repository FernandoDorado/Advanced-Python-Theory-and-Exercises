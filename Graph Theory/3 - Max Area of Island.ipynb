{
 "cells": [
  {
   "cell_type": "markdown",
   "id": "c0dea5d2",
   "metadata": {},
   "source": [
    "# 695. Max Area of Island\n",
    "\n",
    "You are given an m x n binary matrix grid. An island is a group of 1's (representing land) connected 4-directionally (horizontal or vertical.) You may assume all four edges of the grid are surrounded by water.\n",
    "\n",
    "The area of an island is the number of cells with a value 1 in the island.\n",
    "\n",
    "Return the maximum area of an island in grid. If there is no island, return 0."
   ]
  },
  {
   "cell_type": "code",
   "execution_count": 65,
   "id": "60f72073",
   "metadata": {},
   "outputs": [],
   "source": [
    "from typing import List\n",
    "from collections import Counter\n",
    "\n",
    "\n",
    "class Solution:\n",
    "    id_island = 10\n",
    "    \n",
    "    def dfs(self, grid, i,j):\n",
    "        if (i<0) or (i>=len(grid)) or (j<0) or (j>=len(grid[0])) or (grid[i][j]!=1):\n",
    "            return\n",
    "        \n",
    "        grid[i][j] = self.id_island\n",
    "        \n",
    "        self.dfs(grid, i+1, j)\n",
    "        self.dfs(grid, i-1, j)\n",
    "        self.dfs(grid, i, j+1)\n",
    "        self.dfs(grid, i, j-1)\n",
    "        \n",
    "    def maxAreaOfIsland(self, grid: List[List[int]]) -> int:\n",
    "        if not grid:\n",
    "            return 0\n",
    "\n",
    "        num_islands = 0 \n",
    "        for i in range(0,len(grid)):\n",
    "            for j in range(0,len(grid[0])):\n",
    "                if grid[i][j] == 1:\n",
    "                    self.dfs(grid,i,j)\n",
    "                    num_islands +=1\n",
    "                    self.id_island = self.id_island + 1\n",
    "        count = Counter([])\n",
    "        for elem in grid:\n",
    "            count = sum((count, Counter(elem)), Counter())\n",
    "\n",
    "        if len(count.most_common()) == 1 and count.most_common()[0][0] == 0: \n",
    "            return 0\n",
    "        else:            \n",
    "            if count.most_common()[0][0] == 0:\n",
    "                areaMax = count.most_common(2)[-1][1]\n",
    "            else: \n",
    "                areaMax = count.most_common(1)[-1][1]\n",
    "            return areaMax\n",
    "                \n",
    "        #print(grid)"
   ]
  },
  {
   "cell_type": "code",
   "execution_count": 64,
   "id": "b50dc5f4",
   "metadata": {},
   "outputs": [
    {
     "data": {
      "text/plain": [
       "2"
      ]
     },
     "execution_count": 64,
     "metadata": {},
     "output_type": "execute_result"
    }
   ],
   "source": [
    "grid = [[0,1,1]]\n",
    "\n",
    "sol = Solution()\n",
    "sol.maxAreaOfIsland(grid)"
   ]
  }
 ],
 "metadata": {
  "kernelspec": {
   "display_name": "Python 3",
   "language": "python",
   "name": "python3"
  },
  "language_info": {
   "codemirror_mode": {
    "name": "ipython",
    "version": 3
   },
   "file_extension": ".py",
   "mimetype": "text/x-python",
   "name": "python",
   "nbconvert_exporter": "python",
   "pygments_lexer": "ipython3",
   "version": "3.7.10"
  },
  "latex_envs": {
   "LaTeX_envs_menu_present": true,
   "autoclose": false,
   "autocomplete": true,
   "bibliofile": "biblio.bib",
   "cite_by": "apalike",
   "current_citInitial": 1,
   "eqLabelWithNumbers": true,
   "eqNumInitial": 1,
   "hotkeys": {
    "equation": "Ctrl-E",
    "itemize": "Ctrl-I"
   },
   "labels_anchors": false,
   "latex_user_defs": false,
   "report_style_numbering": false,
   "user_envs_cfg": false
  },
  "toc": {
   "base_numbering": 1,
   "nav_menu": {},
   "number_sections": true,
   "sideBar": true,
   "skip_h1_title": false,
   "title_cell": "Table of Contents",
   "title_sidebar": "Contents",
   "toc_cell": false,
   "toc_position": {},
   "toc_section_display": true,
   "toc_window_display": false
  }
 },
 "nbformat": 4,
 "nbformat_minor": 5
}
