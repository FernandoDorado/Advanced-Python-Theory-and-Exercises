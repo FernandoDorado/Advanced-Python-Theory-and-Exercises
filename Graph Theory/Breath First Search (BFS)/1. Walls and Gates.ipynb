{
 "cells": [
  {
   "cell_type": "markdown",
   "id": "35d42cb0",
   "metadata": {},
   "source": [
    "# 286. Walls and Gates\n",
    "\n",
    "You are given an m x n grid rooms initialized with these three possible values.\n",
    "\n",
    "- -1 A wall or an obstacle.\n",
    "- 0 A gate.\n",
    "- INF Infinity means an empty room. We use the value 231 - 1 = 2147483647 to represent INF as you may assume that the distance to a gate is less than 2147483647.\n",
    "\n",
    "Fill each empty room with the distance to its nearest gate. If it is impossible to reach a gate, it should be filled with INF."
   ]
  },
  {
   "cell_type": "code",
   "execution_count": 4,
   "id": "a3143e24",
   "metadata": {},
   "outputs": [],
   "source": [
    "class Solution(object):\n",
    "    def wallsAndGates(self, rooms):\n",
    "        \"\"\"\n",
    "        :type rooms: List[List[int]]\n",
    "        :rtype: void Do not return anything, modify rooms in-place instead.\n",
    "        \"\"\"\n",
    "        if not rooms:\n",
    "            return\n",
    "        \n",
    "        h = len(rooms)\n",
    "        w = len(rooms[0])\n",
    "        \n",
    "        q = []\n",
    "        for i in range(h):\n",
    "            for j in range(w):\n",
    "                if rooms[i][j] == 0:\n",
    "                    q.append((i,j))\n",
    "        \n",
    "        for row, col in q:\n",
    "            dist = rooms[row][col] + 1\n",
    "            for dy, dx in (-1, 0), (1, 0), (0, -1), (0, 1):\n",
    "                r = row + dy\n",
    "                c = col + dx\n",
    "                if 0 <= r < h and 0 <= c < w and rooms[r][c] == 2147483647:\n",
    "                    rooms[r][c] = dist\n",
    "                    q.append((r,c))\n",
    "        return rooms"
   ]
  },
  {
   "cell_type": "code",
   "execution_count": 5,
   "id": "1868f425",
   "metadata": {},
   "outputs": [
    {
     "data": {
      "text/plain": [
       "[[3, -1, 0, 1], [2, 2, 1, -1], [1, -1, 2, -1], [0, -1, 3, 4]]"
      ]
     },
     "execution_count": 5,
     "metadata": {},
     "output_type": "execute_result"
    }
   ],
   "source": [
    "rooms = [[2147483647,-1,0,2147483647],[2147483647,2147483647,2147483647,-1],[2147483647,-1,2147483647,-1],[0,-1,2147483647,2147483647]]\n",
    "\n",
    "sol = Solution()\n",
    "sol.wallsAndGates(rooms)"
   ]
  },
  {
   "cell_type": "code",
   "execution_count": null,
   "id": "69a8a940",
   "metadata": {},
   "outputs": [],
   "source": []
  }
 ],
 "metadata": {
  "kernelspec": {
   "display_name": "Python 3",
   "language": "python",
   "name": "python3"
  },
  "language_info": {
   "codemirror_mode": {
    "name": "ipython",
    "version": 3
   },
   "file_extension": ".py",
   "mimetype": "text/x-python",
   "name": "python",
   "nbconvert_exporter": "python",
   "pygments_lexer": "ipython3",
   "version": "3.7.10"
  },
  "latex_envs": {
   "LaTeX_envs_menu_present": true,
   "autoclose": false,
   "autocomplete": true,
   "bibliofile": "biblio.bib",
   "cite_by": "apalike",
   "current_citInitial": 1,
   "eqLabelWithNumbers": true,
   "eqNumInitial": 1,
   "hotkeys": {
    "equation": "Ctrl-E",
    "itemize": "Ctrl-I"
   },
   "labels_anchors": false,
   "latex_user_defs": false,
   "report_style_numbering": false,
   "user_envs_cfg": false
  },
  "toc": {
   "base_numbering": 1,
   "nav_menu": {},
   "number_sections": true,
   "sideBar": true,
   "skip_h1_title": false,
   "title_cell": "Table of Contents",
   "title_sidebar": "Contents",
   "toc_cell": false,
   "toc_position": {},
   "toc_section_display": true,
   "toc_window_display": false
  }
 },
 "nbformat": 4,
 "nbformat_minor": 5
}
